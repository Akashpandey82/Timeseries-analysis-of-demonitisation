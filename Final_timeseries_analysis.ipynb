{
 "cells": [
  {
   "cell_type": "code",
   "execution_count": 102,
   "metadata": {},
   "outputs": [],
   "source": [
    "\n",
    "df = read.delim(\"datall.txt\", header = F, sep = \"\\t\", dec = \".\")\n"
   ]
  },
  {
   "cell_type": "code",
   "execution_count": null,
   "metadata": {},
   "outputs": [],
   "source": [
    "# converting data into timeseries using ts() function"
   ]
  },
  {
   "cell_type": "code",
   "execution_count": 9,
   "metadata": {},
   "outputs": [
    {
     "data": {
      "text/html": [
       "<table>\n",
       "<caption>A Time Series: 4 × 12</caption>\n",
       "<thead>\n",
       "\t<tr><th></th><th scope=col>Jan</th><th scope=col>Feb</th><th scope=col>Mar</th><th scope=col>Apr</th><th scope=col>May</th><th scope=col>Jun</th><th scope=col>Jul</th><th scope=col>Aug</th><th scope=col>Sep</th><th scope=col>Oct</th><th scope=col>Nov</th><th scope=col>Dec</th></tr>\n",
       "</thead>\n",
       "<tbody>\n",
       "\t<tr><th scope=row>2016</th><td>  </td><td>  </td><td>  </td><td>  </td><td>  </td><td>  </td><td>  </td><td> 2</td><td> 6</td><td> 3</td><td> 4</td><td> 8</td></tr>\n",
       "\t<tr><th scope=row>2017</th><td> 5</td><td> 1</td><td>30</td><td> 9</td><td>11</td><td>13</td><td> 7</td><td>10</td><td>17</td><td>14</td><td>15</td><td>18</td></tr>\n",
       "\t<tr><th scope=row>2018</th><td>19</td><td>12</td><td>35</td><td>16</td><td>22</td><td>25</td><td>23</td><td>24</td><td>20</td><td>26</td><td>21</td><td>27</td></tr>\n",
       "\t<tr><th scope=row>2019</th><td>34</td><td>29</td><td>36</td><td>31</td><td>33</td><td>28</td><td>32</td><td>  </td><td>  </td><td>  </td><td>  </td><td>  </td></tr>\n",
       "</tbody>\n",
       "</table>\n"
      ],
      "text/latex": [
       "A Time Series: 4 × 12\n",
       "\\begin{tabular}{r|llllllllllll}\n",
       "  & Jan & Feb & Mar & Apr & May & Jun & Jul & Aug & Sep & Oct & Nov & Dec\\\\\n",
       "\\hline\n",
       "\t2016 &    &    &    &    &    &    &    &  2 &  6 &  3 &  4 &  8\\\\\n",
       "\t2017 &  5 &  1 & 30 &  9 & 11 & 13 &  7 & 10 & 17 & 14 & 15 & 18\\\\\n",
       "\t2018 & 19 & 12 & 35 & 16 & 22 & 25 & 23 & 24 & 20 & 26 & 21 & 27\\\\\n",
       "\t2019 & 34 & 29 & 36 & 31 & 33 & 28 & 32 &    &    &    &    &   \\\\\n",
       "\\end{tabular}\n"
      ],
      "text/markdown": [
       "\n",
       "A Time Series: 4 × 12\n",
       "\n",
       "| <!--/--> | Jan | Feb | Mar | Apr | May | Jun | Jul | Aug | Sep | Oct | Nov | Dec |\n",
       "|---|---|---|---|---|---|---|---|---|---|---|---|---|\n",
       "| 2016 | <!----> | <!----> | <!----> | <!----> | <!----> | <!----> | <!----> |  2 |  6 |  3 |  4 |  8 |\n",
       "| 2017 |  5 |  1 | 30 |  9 | 11 | 13 |  7 | 10 | 17 | 14 | 15 | 18 |\n",
       "| 2018 | 19 | 12 | 35 | 16 | 22 | 25 | 23 | 24 | 20 | 26 | 21 | 27 |\n",
       "| 2019 | 34 | 29 | 36 | 31 | 33 | 28 | 32 | <!----> | <!----> | <!----> | <!----> | <!----> |\n",
       "\n"
      ],
      "text/plain": [
       "     Jan Feb Mar Apr May Jun Jul Aug Sep Oct Nov Dec\n",
       "2016                              2   6   3   4   8 \n",
       "2017  5   1  30   9  11  13   7  10  17  14  15  18 \n",
       "2018 19  12  35  16  22  25  23  24  20  26  21  27 \n",
       "2019 34  29  36  31  33  28  32                     "
      ]
     },
     "metadata": {},
     "output_type": "display_data"
    }
   ],
   "source": [
    "\n",
    "electronic_data_timeseries = ts(df[[1]],frequency = 12,start=c(2016,8))\n",
    "electronic_data_timeseries"
   ]
  },
  {
   "cell_type": "code",
   "execution_count": null,
   "metadata": {},
   "outputs": [],
   "source": [
    "# plotting the electronic_data_timeseries "
   ]
  },
  {
   "cell_type": "code",
   "execution_count": 10,
   "metadata": {},
   "outputs": [
    {
     "data": {
      "image/png": "[encoded data removed]",
      "text/plain": [
       "plot without title"
      ]
     },
     "metadata": {},
     "output_type": "display_data"
    }
   ],
   "source": [
    "plot.ts(electronic_data_timeseries)"
   ]
  },
  {
   "cell_type": "code",
   "execution_count": 11,
   "metadata": {},
   "outputs": [],
   "source": [
    "#Now expressing the time series into various components usin decompose function"
   ]
  },
  {
   "cell_type": "code",
   "execution_count": 13,
   "metadata": {},
   "outputs": [
    {
     "data": {
      "image/png": "[encoded data removed]",
      "text/plain": [
       "plot without title"
      ]
     },
     "metadata": {},
     "output_type": "display_data"
    }
   ],
   "source": [
    "decom_electronic_data_timeseries = decompose(electronic_data_timeseries)\n",
    "plot(decom_electronic_data_timeseries)"
   ]
  },
  {
   "cell_type": "code",
   "execution_count": 14,
   "metadata": {},
   "outputs": [],
   "source": [
    "# now we have to make data time series data stationary for further analysis\n",
    "# so we have to check whether our data is stationary or not\n",
    "# this can be done by using Augmented dicker fuller test, which is present in \"tseries\" package of r\n",
    "# importing tseries library"
   ]
  },
  {
   "cell_type": "code",
   "execution_count": 15,
   "metadata": {},
   "outputs": [
    {
     "name": "stderr",
     "output_type": "stream",
     "text": [
      "Registered S3 method overwritten by 'xts':\n",
      "  method     from\n",
      "  as.zoo.xts zoo \n",
      "Registered S3 method overwritten by 'quantmod':\n",
      "  method            from\n",
      "  as.zoo.data.frame zoo \n"
     ]
    }
   ],
   "source": [
    "library(tseries)"
   ]
  },
  {
   "cell_type": "code",
   "execution_count": 16,
   "metadata": {},
   "outputs": [],
   "source": [
    "# now checking wether data is stationary or not by applying adf test"
   ]
  },
  {
   "cell_type": "code",
   "execution_count": 18,
   "metadata": {},
   "outputs": [
    {
     "data": {
      "text/plain": [
       "\n",
       "\tAugmented Dickey-Fuller Test\n",
       "\n",
       "data:  electronic_data_timeseries\n",
       "Dickey-Fuller = -3.3312, Lag order = 3, p-value = 0.08326\n",
       "alternative hypothesis: stationary\n"
      ]
     },
     "metadata": {},
     "output_type": "display_data"
    }
   ],
   "source": [
    "adf.test(electronic_data_timeseries)"
   ]
  },
  {
   "cell_type": "code",
   "execution_count": 19,
   "metadata": {},
   "outputs": [],
   "source": [
    "# as it can be seen that p-value is greater than 0.05 , so we fail to reject the null hypothesis \n",
    "# Hence our timeseries is not stationary\n",
    "# we will make Stationary by differencing\n",
    "# usin diff() function"
   ]
  },
  {
   "cell_type": "code",
   "execution_count": 20,
   "metadata": {},
   "outputs": [],
   "source": [
    "diff_electronic_timeseries = diff(electronic_data_timeseries)"
   ]
  },
  {
   "cell_type": "code",
   "execution_count": 21,
   "metadata": {},
   "outputs": [],
   "source": [
    "# now again applying adf test to check the stationarity of the data\n"
   ]
  },
  {
   "cell_type": "code",
   "execution_count": 22,
   "metadata": {},
   "outputs": [
    {
     "data": {
      "text/plain": [
       "\n",
       "\tAugmented Dickey-Fuller Test\n",
       "\n",
       "data:  diff_electronic_timeseries\n",
       "Dickey-Fuller = -3.5715, Lag order = 3, p-value = 0.04944\n",
       "alternative hypothesis: stationary\n"
      ]
     },
     "metadata": {},
     "output_type": "display_data"
    }
   ],
   "source": [
    "adf.test(diff_electronic_timeseries)"
   ]
  },
  {
   "cell_type": "code",
   "execution_count": 23,
   "metadata": {},
   "outputs": [],
   "source": [
    "# Now it can be seen that p-value is less than 0.05\n",
    "# hence our data is stationary now\n",
    "# it is ready for further analysis"
   ]
  },
  {
   "cell_type": "code",
   "execution_count": 24,
   "metadata": {},
   "outputs": [],
   "source": [
    "# now we will be forecast the time series data by different methods \n",
    "# so we need library called  \"forecast\" in R which is used for forecasting\n"
   ]
  },
  {
   "cell_type": "code",
   "execution_count": 25,
   "metadata": {},
   "outputs": [
    {
     "name": "stderr",
     "output_type": "stream",
     "text": [
      "Registered S3 methods overwritten by 'forecast':\n",
      "  method             from    \n",
      "  fitted.fracdiff    fracdiff\n",
      "  residuals.fracdiff fracdiff\n"
     ]
    }
   ],
   "source": [
    "library(forecast)"
   ]
  },
  {
   "cell_type": "code",
   "execution_count": 26,
   "metadata": {},
   "outputs": [],
   "source": [
    "# first we will test the root mean square error for the different methods and choose the best of them accordingly\n",
    "# first we will apply naive based method"
   ]
  },
  {
   "cell_type": "code",
   "execution_count": 47,
   "metadata": {},
   "outputs": [],
   "source": [
    "model_1 = naive(diff_electronic_timeseries)"
   ]
  },
  {
   "cell_type": "code",
   "execution_count": 30,
   "metadata": {},
   "outputs": [],
   "source": [
    "# now checking the root mean square error of the model by accuracy function"
   ]
  },
  {
   "cell_type": "code",
   "execution_count": 48,
   "metadata": {},
   "outputs": [
    {
     "data": {
      "text/html": [
       "<table>\n",
       "<caption>A matrix: 1 × 7 of type dbl</caption>\n",
       "<thead>\n",
       "\t<tr><th></th><th scope=col>ME</th><th scope=col>RMSE</th><th scope=col>MAE</th><th scope=col>MPE</th><th scope=col>MAPE</th><th scope=col>MASE</th><th scope=col>ACF1</th></tr>\n",
       "</thead>\n",
       "<tbody>\n",
       "\t<tr><th scope=row>Training set</th><td>0</td><td>16.18096</td><td>11.17647</td><td>204.9172</td><td>222.5643</td><td>2.235294</td><td>-0.7150079</td></tr>\n",
       "</tbody>\n",
       "</table>\n"
      ],
      "text/latex": [
       "A matrix: 1 × 7 of type dbl\n",
       "\\begin{tabular}{r|lllllll}\n",
       "  & ME & RMSE & MAE & MPE & MAPE & MASE & ACF1\\\\\n",
       "\\hline\n",
       "\tTraining set & 0 & 16.18096 & 11.17647 & 204.9172 & 222.5643 & 2.235294 & -0.7150079\\\\\n",
       "\\end{tabular}\n"
      ],
      "text/markdown": [
       "\n",
       "A matrix: 1 × 7 of type dbl\n",
       "\n",
       "| <!--/--> | ME | RMSE | MAE | MPE | MAPE | MASE | ACF1 |\n",
       "|---|---|---|---|---|---|---|---|\n",
       "| Training set | 0 | 16.18096 | 11.17647 | 204.9172 | 222.5643 | 2.235294 | -0.7150079 |\n",
       "\n"
      ],
      "text/plain": [
       "             ME RMSE     MAE      MPE      MAPE     MASE     ACF1      \n",
       "Training set 0  16.18096 11.17647 204.9172 222.5643 2.235294 -0.7150079"
      ]
     },
     "metadata": {},
     "output_type": "display_data"
    }
   ],
   "source": [
    "accuracy(model_1)"
   ]
  },
  {
   "cell_type": "code",
   "execution_count": 32,
   "metadata": {},
   "outputs": [],
   "source": [
    "# so we get RMSE = 8.889802 of naive based"
   ]
  },
  {
   "cell_type": "code",
   "execution_count": 33,
   "metadata": {},
   "outputs": [],
   "source": [
    "# now for simple exponential smoothning"
   ]
  },
  {
   "cell_type": "code",
   "execution_count": 49,
   "metadata": {},
   "outputs": [],
   "source": [
    "model_2 = ses(diff_electronic_timeseries)"
   ]
  },
  {
   "cell_type": "code",
   "execution_count": 50,
   "metadata": {},
   "outputs": [
    {
     "data": {
      "text/html": [
       "<table>\n",
       "<caption>A matrix: 1 × 7 of type dbl</caption>\n",
       "<thead>\n",
       "\t<tr><th></th><th scope=col>ME</th><th scope=col>RMSE</th><th scope=col>MAE</th><th scope=col>MPE</th><th scope=col>MAPE</th><th scope=col>MASE</th><th scope=col>ACF1</th></tr>\n",
       "</thead>\n",
       "<tbody>\n",
       "\t<tr><th scope=row>Training set</th><td>-0.0006706582</td><td>8.848825</td><td>5.943036</td><td>87.63639</td><td>87.63639</td><td>1.188607</td><td>-0.6278881</td></tr>\n",
       "</tbody>\n",
       "</table>\n"
      ],
      "text/latex": [
       "A matrix: 1 × 7 of type dbl\n",
       "\\begin{tabular}{r|lllllll}\n",
       "  & ME & RMSE & MAE & MPE & MAPE & MASE & ACF1\\\\\n",
       "\\hline\n",
       "\tTraining set & -0.0006706582 & 8.848825 & 5.943036 & 87.63639 & 87.63639 & 1.188607 & -0.6278881\\\\\n",
       "\\end{tabular}\n"
      ],
      "text/markdown": [
       "\n",
       "A matrix: 1 × 7 of type dbl\n",
       "\n",
       "| <!--/--> | ME | RMSE | MAE | MPE | MAPE | MASE | ACF1 |\n",
       "|---|---|---|---|---|---|---|---|\n",
       "| Training set | -0.0006706582 | 8.848825 | 5.943036 | 87.63639 | 87.63639 | 1.188607 | -0.6278881 |\n",
       "\n"
      ],
      "text/plain": [
       "             ME            RMSE     MAE      MPE      MAPE     MASE    \n",
       "Training set -0.0006706582 8.848825 5.943036 87.63639 87.63639 1.188607\n",
       "             ACF1      \n",
       "Training set -0.6278881"
      ]
     },
     "metadata": {},
     "output_type": "display_data"
    }
   ],
   "source": [
    "accuracy(model_2)"
   ]
  },
  {
   "cell_type": "code",
   "execution_count": 36,
   "metadata": {},
   "outputs": [],
   "source": [
    "# we get RMSE =6.629548"
   ]
  },
  {
   "cell_type": "code",
   "execution_count": 37,
   "metadata": {},
   "outputs": [],
   "source": [
    "# for holt linear method "
   ]
  },
  {
   "cell_type": "code",
   "execution_count": 51,
   "metadata": {},
   "outputs": [],
   "source": [
    "model_3= holt(diff_electronic_timeseries)"
   ]
  },
  {
   "cell_type": "code",
   "execution_count": 52,
   "metadata": {},
   "outputs": [
    {
     "data": {
      "text/html": [
       "<table>\n",
       "<caption>A matrix: 1 × 7 of type dbl</caption>\n",
       "<thead>\n",
       "\t<tr><th></th><th scope=col>ME</th><th scope=col>RMSE</th><th scope=col>MAE</th><th scope=col>MPE</th><th scope=col>MAPE</th><th scope=col>MASE</th><th scope=col>ACF1</th></tr>\n",
       "</thead>\n",
       "<tbody>\n",
       "\t<tr><th scope=row>Training set</th><td>-0.1468971</td><td>8.853854</td><td>5.95478</td><td>84.03497</td><td>88.87396</td><td>1.190956</td><td>-0.6268046</td></tr>\n",
       "</tbody>\n",
       "</table>\n"
      ],
      "text/latex": [
       "A matrix: 1 × 7 of type dbl\n",
       "\\begin{tabular}{r|lllllll}\n",
       "  & ME & RMSE & MAE & MPE & MAPE & MASE & ACF1\\\\\n",
       "\\hline\n",
       "\tTraining set & -0.1468971 & 8.853854 & 5.95478 & 84.03497 & 88.87396 & 1.190956 & -0.6268046\\\\\n",
       "\\end{tabular}\n"
      ],
      "text/markdown": [
       "\n",
       "A matrix: 1 × 7 of type dbl\n",
       "\n",
       "| <!--/--> | ME | RMSE | MAE | MPE | MAPE | MASE | ACF1 |\n",
       "|---|---|---|---|---|---|---|---|\n",
       "| Training set | -0.1468971 | 8.853854 | 5.95478 | 84.03497 | 88.87396 | 1.190956 | -0.6268046 |\n",
       "\n"
      ],
      "text/plain": [
       "             ME         RMSE     MAE     MPE      MAPE     MASE     ACF1      \n",
       "Training set -0.1468971 8.853854 5.95478 84.03497 88.87396 1.190956 -0.6268046"
      ]
     },
     "metadata": {},
     "output_type": "display_data"
    }
   ],
   "source": [
    "accuracy(model_3)"
   ]
  },
  {
   "cell_type": "code",
   "execution_count": 40,
   "metadata": {},
   "outputs": [],
   "source": [
    "# rmse = 8.853854"
   ]
  },
  {
   "cell_type": "code",
   "execution_count": 41,
   "metadata": {},
   "outputs": [],
   "source": [
    "# for holt winter method"
   ]
  },
  {
   "cell_type": "code",
   "execution_count": 53,
   "metadata": {},
   "outputs": [],
   "source": [
    "model_4 = hw(diff_electronic_timeseries)"
   ]
  },
  {
   "cell_type": "code",
   "execution_count": 54,
   "metadata": {},
   "outputs": [
    {
     "data": {
      "text/html": [
       "<table>\n",
       "<caption>A matrix: 1 × 7 of type dbl</caption>\n",
       "<thead>\n",
       "\t<tr><th></th><th scope=col>ME</th><th scope=col>RMSE</th><th scope=col>MAE</th><th scope=col>MPE</th><th scope=col>MAPE</th><th scope=col>MASE</th><th scope=col>ACF1</th></tr>\n",
       "</thead>\n",
       "<tbody>\n",
       "\t<tr><th scope=row>Training set</th><td>0.01623161</td><td>5.262136</td><td>3.372169</td><td>11.76447</td><td>81.66449</td><td>0.6744337</td><td>-0.4626286</td></tr>\n",
       "</tbody>\n",
       "</table>\n"
      ],
      "text/latex": [
       "A matrix: 1 × 7 of type dbl\n",
       "\\begin{tabular}{r|lllllll}\n",
       "  & ME & RMSE & MAE & MPE & MAPE & MASE & ACF1\\\\\n",
       "\\hline\n",
       "\tTraining set & 0.01623161 & 5.262136 & 3.372169 & 11.76447 & 81.66449 & 0.6744337 & -0.4626286\\\\\n",
       "\\end{tabular}\n"
      ],
      "text/markdown": [
       "\n",
       "A matrix: 1 × 7 of type dbl\n",
       "\n",
       "| <!--/--> | ME | RMSE | MAE | MPE | MAPE | MASE | ACF1 |\n",
       "|---|---|---|---|---|---|---|---|\n",
       "| Training set | 0.01623161 | 5.262136 | 3.372169 | 11.76447 | 81.66449 | 0.6744337 | -0.4626286 |\n",
       "\n"
      ],
      "text/plain": [
       "             ME         RMSE     MAE      MPE      MAPE     MASE     \n",
       "Training set 0.01623161 5.262136 3.372169 11.76447 81.66449 0.6744337\n",
       "             ACF1      \n",
       "Training set -0.4626286"
      ]
     },
     "metadata": {},
     "output_type": "display_data"
    }
   ],
   "source": [
    "accuracy(model_4)"
   ]
  },
  {
   "cell_type": "code",
   "execution_count": 125,
   "metadata": {},
   "outputs": [],
   "source": [
    "# rmse 5.262136\n"
   ]
  },
  {
   "cell_type": "code",
   "execution_count": 110,
   "metadata": {},
   "outputs": [],
   "source": [
    "seas_adj_data = electronic_data_timeseries - decom_electronic_data_timeseries$seasonal"
   ]
  },
  {
   "cell_type": "code",
   "execution_count": 146,
   "metadata": {},
   "outputs": [
    {
     "name": "stderr",
     "output_type": "stream",
     "text": [
      "Warning message in adf.test(seas_adj_data):\n",
      "\"p-value smaller than printed p-value\""
     ]
    },
    {
     "data": {
      "text/plain": [
       "\n",
       "\tAugmented Dickey-Fuller Test\n",
       "\n",
       "data:  seas_adj_data\n",
       "Dickey-Fuller = -4.3445, Lag order = 3, p-value = 0.01\n",
       "alternative hypothesis: stationary\n"
      ]
     },
     "metadata": {},
     "output_type": "display_data"
    }
   ],
   "source": [
    "adf.test(seas_adj_data)"
   ]
  },
  {
   "cell_type": "code",
   "execution_count": 144,
   "metadata": {},
   "outputs": [
    {
     "data": {
      "text/plain": [
       "Series: seas_adj_data \n",
       "ARIMA(2,1,0) with drift \n",
       "\n",
       "Coefficients:\n",
       "          ar1      ar2   drift\n",
       "      -0.8858  -0.5909  0.7824\n",
       "s.e.   0.1349   0.1350  0.2543\n",
       "\n",
       "sigma^2 estimated as 14.44:  log likelihood=-95.44\n",
       "AIC=198.87   AICc=200.21   BIC=205.1"
      ]
     },
     "metadata": {},
     "output_type": "display_data"
    }
   ],
   "source": [
    "model_5=auto.arima(seas_adj_data,seasonal=F)\n",
    "model_5"
   ]
  },
  {
   "cell_type": "code",
   "execution_count": 141,
   "metadata": {},
   "outputs": [
    {
     "data": {
      "text/html": [
       "<table>\n",
       "<caption>A matrix: 1 × 7 of type dbl</caption>\n",
       "<thead>\n",
       "\t<tr><th></th><th scope=col>ME</th><th scope=col>RMSE</th><th scope=col>MAE</th><th scope=col>MPE</th><th scope=col>MAPE</th><th scope=col>MASE</th><th scope=col>ACF1</th></tr>\n",
       "</thead>\n",
       "<tbody>\n",
       "\t<tr><th scope=row>Training set</th><td>-0.0039474</td><td>3.582899</td><td>2.470404</td><td>-10.52951</td><td>23.52353</td><td>0.2449988</td><td>-0.1001775</td></tr>\n",
       "</tbody>\n",
       "</table>\n"
      ],
      "text/latex": [
       "A matrix: 1 × 7 of type dbl\n",
       "\\begin{tabular}{r|lllllll}\n",
       "  & ME & RMSE & MAE & MPE & MAPE & MASE & ACF1\\\\\n",
       "\\hline\n",
       "\tTraining set & -0.0039474 & 3.582899 & 2.470404 & -10.52951 & 23.52353 & 0.2449988 & -0.1001775\\\\\n",
       "\\end{tabular}\n"
      ],
      "text/markdown": [
       "\n",
       "A matrix: 1 × 7 of type dbl\n",
       "\n",
       "| <!--/--> | ME | RMSE | MAE | MPE | MAPE | MASE | ACF1 |\n",
       "|---|---|---|---|---|---|---|---|\n",
       "| Training set | -0.0039474 | 3.582899 | 2.470404 | -10.52951 | 23.52353 | 0.2449988 | -0.1001775 |\n",
       "\n"
      ],
      "text/plain": [
       "             ME         RMSE     MAE      MPE       MAPE     MASE     \n",
       "Training set -0.0039474 3.582899 2.470404 -10.52951 23.52353 0.2449988\n",
       "             ACF1      \n",
       "Training set -0.1001775"
      ]
     },
     "metadata": {},
     "output_type": "display_data"
    }
   ],
   "source": [
    "accuracy(model_5)"
   ]
  },
  {
   "cell_type": "code",
   "execution_count": 142,
   "metadata": {},
   "outputs": [],
   "source": [
    "fcast = forecast(model_5,h=10)"
   ]
  },
  {
   "cell_type": "code",
   "execution_count": 143,
   "metadata": {},
   "outputs": [
    {
     "data": {
      "image/png": "[encoded data removed]",
      "text/plain": [
       "Plot with title \"Forecasts from ARIMA(2,1,0) with drift\""
      ]
     },
     "metadata": {},
     "output_type": "display_data"
    }
   ],
   "source": [
    "plot(fcast)"
   ]
  },
  {
   "cell_type": "code",
   "execution_count": 154,
   "metadata": {},
   "outputs": [
    {
     "data": {
      "text/plain": [
       "Series: seas_adj_data \n",
       "ARIMA(0,1,0) \n",
       "\n",
       "sigma^2 estimated as 7.919e+16:  log likelihood=-855.84\n",
       "AIC=1713.69   AICc=1713.79   BIC=1715.4"
      ]
     },
     "metadata": {},
     "output_type": "display_data"
    },
    {
     "data": {
      "text/plain": [
       "\n",
       "\tAugmented Dickey-Fuller Test\n",
       "\n",
       "data:  seas_adj_data\n",
       "Dickey-Fuller = -3.9516, Lag order = 3, p-value = 0.02114\n",
       "alternative hypothesis: stationary\n"
      ]
     },
     "metadata": {},
     "output_type": "display_data"
    }
   ],
   "source": [
    "df1 = read.delim(\"cashdata1.txt\", header = F, sep = \"\\t\", dec = \".\")\n",
    "df2=df1[[1]]*1000\n",
    "cash_data_timeseries = ts(df2,frequency = 12,start=c(2016,7))\n",
    "decomp = decompose(cash_data_timeseries)\n",
    "seas_adj_data = cash_data_timeseries-decomp$seasonal\n",
    "auto.arima(seas_adj_data,seasonal=F)\n",
    "adf.test(seas_adj_data)\n",
    "\n",
    "\n",
    "\n",
    "                                             \n"
   ]
  },
  {
   "cell_type": "code",
   "execution_count": 150,
   "metadata": {},
   "outputs": [],
   "source": [
    "model_7=auto.arima(seas_adj_data,seasonal=F)"
   ]
  },
  {
   "cell_type": "code",
   "execution_count": 158,
   "metadata": {},
   "outputs": [],
   "source": [
    "fcast2 = forecast(model_7,h=5)"
   ]
  },
  {
   "cell_type": "code",
   "execution_count": 159,
   "metadata": {},
   "outputs": [
    {
     "data": {
      "image/png": "[encoded data removed]",
      "text/plain": [
       "Plot with title \"Forecasts from ARIMA(0,1,0)\""
      ]
     },
     "metadata": {},
     "output_type": "display_data"
    }
   ],
   "source": [
    "plot(fcast2)"
   ]
  },
  {
   "cell_type": "code",
   "execution_count": 160,
   "metadata": {},
   "outputs": [
    {
     "data": {
      "text/html": [
       "'C:/Users/hp'"
      ],
      "text/latex": [
       "'C:/Users/hp'"
      ],
      "text/markdown": [
       "'C:/Users/hp'"
      ],
      "text/plain": [
       "[1] \"C:/Users/hp\""
      ]
     },
     "metadata": {},
     "output_type": "display_data"
    }
   ],
   "source": [
    "getwd()"
   ]
  },
  {
   "cell_type": "code",
   "execution_count": null,
   "metadata": {},
   "outputs": [],
   "source": []
  }
 ],
 "metadata": {
  "kernelspec": {
   "display_name": "R",
   "language": "R",
   "name": "ir"
  },
  "language_info": {
   "codemirror_mode": "r",
   "file_extension": ".r",
   "mimetype": "text/x-r-source",
   "name": "R",
   "pygments_lexer": "r",
   "version": "3.6.1"
  }
 },
 "nbformat": 4,
 "nbformat_minor": 2
}
